{
 "cells": [
  {
   "cell_type": "code",
   "execution_count": 7,
   "id": "74d899ad-3c74-4eb0-a7da-248fcd036bba",
   "metadata": {},
   "outputs": [
    {
     "name": "stdout",
     "output_type": "stream",
     "text": [
      "1 175.0\n",
      "2 481.25 0 0\n",
      "3 1017.1875 0 0\n",
      "4 1955.078125 0 0\n",
      "5 3596.38671875 0 0\n",
      "6 6468.6767578125 0 0\n",
      "7 11495.184326171875 0 0\n",
      "8 20291.57257080078 0 0\n",
      "9 35685.25199890137 0 0\n",
      "10 62624.19099807739 0 0\n",
      "11 22267.334246635437 50000 1\n",
      "12 39142.834931612015 50000 1\n",
      "13 68674.96113032103 50000 1\n",
      "14 120356.1819780618 0 1\n",
      "15 210798.31846160814 0 1\n",
      "16 369072.05730781425 0 1\n",
      "17 646051.1002886749 0 1\n",
      "18 1130764.425505181 0 1\n",
      "19 1979012.744634067 0 1\n",
      "20 3463447.303109617 0 1\n"
     ]
    }
   ],
   "source": [
    "mise = 100 * (1+0.05*15)\n",
    "print(1, mise)\n",
    "n = 0\n",
    "retreive = 0\n",
    "\n",
    "for i in range(2, 21):\n",
    "    if mise <= 50000:\n",
    "        mise = (mise + 100)*(1+0.05*15)\n",
    "    else:\n",
    "        if n == 0:\n",
    "            n += 1\n",
    "            mise -= 50000\n",
    "            retreive = 50000\n",
    "        else:\n",
    "            retreive = 0\n",
    "        mise = (mise + 100)*(1+0.05*15)        \n",
    "            \n",
    "    print(i, mise, retreive, n)"
   ]
  },
  {
   "cell_type": "code",
   "execution_count": null,
   "id": "143e8ddb-487c-4227-a83c-edd168b7f68f",
   "metadata": {},
   "outputs": [],
   "source": []
  }
 ],
 "metadata": {
  "kernelspec": {
   "display_name": "Python 3 (ipykernel)",
   "language": "python",
   "name": "python3"
  },
  "language_info": {
   "codemirror_mode": {
    "name": "ipython",
    "version": 3
   },
   "file_extension": ".py",
   "mimetype": "text/x-python",
   "name": "python",
   "nbconvert_exporter": "python",
   "pygments_lexer": "ipython3",
   "version": "3.11.6"
  }
 },
 "nbformat": 4,
 "nbformat_minor": 5
}
